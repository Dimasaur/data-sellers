{
 "cells": [
  {
   "cell_type": "code",
   "execution_count": 1,
   "metadata": {},
   "outputs": [],
   "source": [
    "%load_ext autoreload\n",
    "%autoreload 2\n",
    "\n",
    "import pandas as pd\n",
    "import numpy as np\n",
    "import matplotlib.pyplot as plt\n",
    "import seaborn as sns\n",
    "import statsmodels.formula.api as smf\n",
    "from olist.seller import Seller\n",
    "from olist.order import Order\n",
    "from olist.data import Olist\n",
    "import os\n",
    "import sys"
   ]
  },
  {
   "cell_type": "code",
   "execution_count": 2,
   "metadata": {},
   "outputs": [],
   "source": [
    "olist = Olist()"
   ]
  },
  {
   "cell_type": "markdown",
   "metadata": {},
   "source": [
    "# Sellers"
   ]
  },
  {
   "cell_type": "markdown",
   "metadata": {},
   "source": [
    "🎯 Our goal is to find sellers who have repeatedly been underperforming vs. others, and understand why.  \n",
    "This will help us shape our recommendations about how to improve Olist's profit margin for the future."
   ]
  },
  {
   "cell_type": "markdown",
   "metadata": {},
   "source": [
    "❗️ Long Notebook. Once you've read a section, you can collapse it.\n",
    "<details>\n",
    "    <summary> <i>[remainder] Notebook best practices</i></summary>\n",
    "\n",
    "- Code your logic so that your Notebook can always be run from top to bottom without crashing (`Cell --> Run All`)\n",
    "- Name your variables carefully \n",
    "- Use dummy names such as `tmp` for intermediary steps when you know you won't need them later\n",
    "- Clear your code and merge cells when relevant to minimize Notebook size (`Shift-M`)\n",
    "- Hide your cell output if you don't need to see it anymore (double click on the red `Out[]:` section to the left of your cell).\n",
    "- Make heavy use of jupyter nbextention `Collapsable Headings` and `Table of Content` (call a TA if you can't find them)\n",
    "- Use the following shortcuts \n",
    "    - `a` to insert a cell above\n",
    "    - `b` to insert a cell below\n",
    "    - `dd` to delete a cell\n",
    "    - `esc` and `arrows` to move between cells\n",
    "    - `Shift-Enter` to execute cell and move focus to the next one\n",
    "    - use `Shift + Tab` when you're between method brackets e.g. `groupby()` to get the docs! Repeat a few times to open it permanently\n",
    "\n",
    "</details>\n",
    "\n",
    "\n",
    "\n"
   ]
  },
  {
   "cell_type": "markdown",
   "metadata": {
    "tags": []
   },
   "source": [
    "## 1 - `olist/seller.py`  "
   ]
  },
  {
   "cell_type": "markdown",
   "metadata": {},
   "source": [
    "In a process similar to `order.py`, we have coded for you the module `olist/seller.py` containing a class `Seller` with a method `Seller().get_training_data` that will return a DataFrame with the following features:\n",
    "  \n",
    "| feature_name \t| type \t| description \t|\n",
    "|:---\t|:---:\t|:---\t|\n",
    "| `seller_id` \t| str \t| the id of the seller **UNIQUE** \t|\n",
    "| `seller_city` \t| str \t| the city where seller is located \t|\n",
    "| `seller_state` \t| str \t| the state where seller is located \t|\n",
    "| `delay_to_carrier` \t| float \t| returns 0 if the order is delivered before the shipping_limit_date, otherwise the value of the delay \t|\n",
    "| `wait_time` \t| float \t| average wait_time (duration of deliveries) per seller \t|\n",
    "| `date_first_sale` \t| datetime \t| date of the first sale on Olist \t|\n",
    "| `date_last_sale` \t| datetime \t| date of the last sale on Olist \t|\n",
    "| `months_on_olist` \t| float \t| round number of months  on Olist\t|\n",
    "| `share_of_five_stars` \t| float \t| share of five-star reviews for orders in which the seller was involved \t|\n",
    "| `share_of_one_stars` \t| float \t| share of one-star reviews for orders in which the seller was involved \t|\n",
    "| `review_score` \t| float \t| average review score for orders in which the seller was involved \t|\n",
    "| `n_orders` \t| int \t| number of unique orders the seller was involved with \t|\n",
    "| `quantity` \t| int \t| total number of items sold by this seller \t|\n",
    "| `quantity_per_order` \t| float \t| average number of items per order for this seller \t|\n",
    "| `sales` \t| float \t| total sales associated with this seller (excluding freight value) in BRL \t|  "
   ]
  },
  {
   "cell_type": "markdown",
   "metadata": {},
   "source": [
    "❓ **Import your new class below and check out your training dataframe !** Take time to look at the code and understand exactly what has been computed for you"
   ]
  },
  {
   "cell_type": "code",
   "execution_count": 9,
   "metadata": {},
   "outputs": [
    {
     "data": {
      "text/html": [
       "<div>\n",
       "<style scoped>\n",
       "    .dataframe tbody tr th:only-of-type {\n",
       "        vertical-align: middle;\n",
       "    }\n",
       "\n",
       "    .dataframe tbody tr th {\n",
       "        vertical-align: top;\n",
       "    }\n",
       "\n",
       "    .dataframe thead th {\n",
       "        text-align: right;\n",
       "    }\n",
       "</style>\n",
       "<table border=\"1\" class=\"dataframe\">\n",
       "  <thead>\n",
       "    <tr style=\"text-align: right;\">\n",
       "      <th></th>\n",
       "      <th>seller_id</th>\n",
       "      <th>seller_zip_code_prefix</th>\n",
       "      <th>seller_city</th>\n",
       "      <th>seller_state</th>\n",
       "    </tr>\n",
       "  </thead>\n",
       "  <tbody>\n",
       "    <tr>\n",
       "      <th>0</th>\n",
       "      <td>3442f8959a84dea7ee197c632cb2df15</td>\n",
       "      <td>13023</td>\n",
       "      <td>campinas</td>\n",
       "      <td>SP</td>\n",
       "    </tr>\n",
       "    <tr>\n",
       "      <th>1</th>\n",
       "      <td>d1b65fc7debc3361ea86b5f14c68d2e2</td>\n",
       "      <td>13844</td>\n",
       "      <td>mogi guacu</td>\n",
       "      <td>SP</td>\n",
       "    </tr>\n",
       "    <tr>\n",
       "      <th>2</th>\n",
       "      <td>ce3ad9de960102d0677a81f5d0bb7b2d</td>\n",
       "      <td>20031</td>\n",
       "      <td>rio de janeiro</td>\n",
       "      <td>RJ</td>\n",
       "    </tr>\n",
       "    <tr>\n",
       "      <th>3</th>\n",
       "      <td>c0f3eea2e14555b6faeea3dd58c1b1c3</td>\n",
       "      <td>4195</td>\n",
       "      <td>sao paulo</td>\n",
       "      <td>SP</td>\n",
       "    </tr>\n",
       "    <tr>\n",
       "      <th>4</th>\n",
       "      <td>51a04a8a6bdcb23deccc82b0b80742cf</td>\n",
       "      <td>12914</td>\n",
       "      <td>braganca paulista</td>\n",
       "      <td>SP</td>\n",
       "    </tr>\n",
       "  </tbody>\n",
       "</table>\n",
       "</div>"
      ],
      "text/plain": [
       "                          seller_id  seller_zip_code_prefix  \\\n",
       "0  3442f8959a84dea7ee197c632cb2df15                   13023   \n",
       "1  d1b65fc7debc3361ea86b5f14c68d2e2                   13844   \n",
       "2  ce3ad9de960102d0677a81f5d0bb7b2d                   20031   \n",
       "3  c0f3eea2e14555b6faeea3dd58c1b1c3                    4195   \n",
       "4  51a04a8a6bdcb23deccc82b0b80742cf                   12914   \n",
       "\n",
       "         seller_city seller_state  \n",
       "0           campinas           SP  \n",
       "1         mogi guacu           SP  \n",
       "2     rio de janeiro           RJ  \n",
       "3          sao paulo           SP  \n",
       "4  braganca paulista           SP  "
      ]
     },
     "execution_count": 9,
     "metadata": {},
     "output_type": "execute_result"
    }
   ],
   "source": []
  },
  {
   "cell_type": "code",
   "execution_count": 28,
   "metadata": {
    "tags": [
     "challengify"
    ]
   },
   "outputs": [],
   "source": [
    "#Get sellers dataframe\n",
    "sellers_invalid = Seller().get_training_data()"
   ]
  },
  {
   "cell_type": "markdown",
   "metadata": {},
   "source": [
    "🤔 One last thing remains to be computed for each seller:\n",
    "* the proportion of extremely high reviews (`share_of_five_stars`) and the proportion of extremely poor reviews (`share_of_one_stars`)\n",
    "* the (average) `review_score`\n",
    "\n",
    "😱 Each low-rated order will indeed have a negative impact on Olist's reputation and this is modeled by the `cost_of_review`.  \n",
    "\n",
    "This will help us compute the total `cost_of_review` per seller later on!\n",
    "\n",
    "❓ **Implement the last method that has been left for you `get_review_score()`**"
   ]
  },
  {
   "cell_type": "code",
   "execution_count": 29,
   "metadata": {},
   "outputs": [],
   "source": [
    "# first table - get_review_score from Order, will contain 'order_id', 'dim_is_five_star', 'dim_is_one_star', 'review_score'\n",
    "review_score_data = Order().get_review_score()"
   ]
  },
  {
   "cell_type": "code",
   "execution_count": 30,
   "metadata": {},
   "outputs": [],
   "source": [
    "# second table - order_items from data, will contain order_id, seller_id\n",
    "order_items = Olist().get_data()['order_items']"
   ]
  },
  {
   "cell_type": "code",
   "execution_count": 31,
   "metadata": {},
   "outputs": [],
   "source": [
    "#merge the three tables: first left join of sellers on seller_items on seller_id, then on reviews on order_id\n",
    "master_table = order_items.merge(review_score_data,on='order_id')"
   ]
  },
  {
   "cell_type": "code",
   "execution_count": null,
   "metadata": {},
   "outputs": [],
   "source": [
    "master_table"
   ]
  },
  {
   "cell_type": "code",
   "execution_count": 33,
   "metadata": {},
   "outputs": [],
   "source": [
    "seller_avg_score = master_table.groupby('seller_id').agg({'review_score':'mean'})\n",
    "_ = master_table.merge(seller_avg_score, how='left',on='seller_id')\n",
    "temp = _.rename(columns={'review_score_y':'review_score'})"
   ]
  },
  {
   "cell_type": "code",
   "execution_count": 34,
   "metadata": {},
   "outputs": [],
   "source": [
    "# Group by the table by seller_id\n",
    "# sum the values in dim_is_five_star and in dim_is_one_star + count of review_score\n",
    "# divide the values in dim_is_five_star and dim_is_one_star by the count of review score\n",
    "\n",
    "review_score_test = temp.groupby('seller_id').agg({\\\n",
    "                                        'dim_is_five_star': 'sum',\\\n",
    "                                        'dim_is_one_star': 'sum',\\\n",
    "                                        'review_score_x': 'count',\\\n",
    "                                        'review_score':'mean'}).reset_index()\n",
    "review_score_test['share_of_five_stars'] = review_score_test['dim_is_five_star']/review_score_test['review_score_x']\n",
    "\n",
    "review_score_test['share_of_one_stars'] = review_score_test['dim_is_one_star']/review_score_test['review_score_x']"
   ]
  },
  {
   "cell_type": "code",
   "execution_count": null,
   "metadata": {},
   "outputs": [],
   "source": [
    "review_score = review_score_test.drop(['dim_is_five_star','dim_is_one_star','review_score_x'],axis=1)\n",
    "\n",
    "order = ['seller_id', 'share_of_five_stars', 'share_of_one_stars', 'review_score']\n",
    "\n",
    "review_score = review_score[order]\n",
    "\n",
    "review_score.head()"
   ]
  },
  {
   "cell_type": "markdown",
   "metadata": {},
   "source": [
    "🧪 Test your code below"
   ]
  },
  {
   "cell_type": "code",
   "execution_count": 37,
   "metadata": {},
   "outputs": [
    {
     "name": "stdout",
     "output_type": "stream",
     "text": [
      "\n",
      "\u001b[1m============================= test session starts ==============================\u001b[0m\n",
      "platform darwin -- Python 3.10.6, pytest-7.1.3, pluggy-1.0.0 -- /Users/dima/.pyenv/versions/3.10.6/envs/lewagon/bin/python\n",
      "cachedir: .pytest_cache\n",
      "rootdir: /Users/dima/code/Dimasaur/04-Decision-Science/03-Linear-Regression/data-sellers/tests\n",
      "plugins: asyncio-0.19.0, typeguard-2.13.3, anyio-3.6.2\n",
      "asyncio: mode=strict\n",
      "\u001b[1mcollecting ... \u001b[0mcollected 3 items\n",
      "\n",
      "test_seller.py::TestSeller::test_column_names \u001b[32mPASSED\u001b[0m\u001b[32m                     [ 33%]\u001b[0m\n",
      "test_seller.py::TestSeller::test_median_review_score \u001b[32mPASSED\u001b[0m\u001b[32m              [ 66%]\u001b[0m\n",
      "test_seller.py::TestSeller::test_shape \u001b[32mPASSED\u001b[0m\u001b[32m                            [100%]\u001b[0m\n",
      "\n",
      "\u001b[32m============================== \u001b[32m\u001b[1m3 passed\u001b[0m\u001b[32m in 0.30s\u001b[0m\u001b[32m ===============================\u001b[0m\n",
      "\n",
      "\n",
      "💯 You can commit your code:\n",
      "\n",
      "\u001b[1;32mgit\u001b[39m add tests/seller.pickle\n",
      "\n",
      "\u001b[32mgit\u001b[39m commit -m \u001b[33m'Completed seller step'\u001b[39m\n",
      "\n",
      "\u001b[32mgit\u001b[39m push origin master\n",
      "\n"
     ]
    }
   ],
   "source": [
    "from nbresult import ChallengeResult\n",
    "\n",
    "tmp = Seller().get_training_data()\n",
    "result = ChallengeResult('seller',\n",
    "    shape = tmp.shape,\n",
    "    median = tmp.review_score.median(),\n",
    "    columns = tmp.columns\n",
    ")\n",
    "result.write()\n",
    "print(result.check())"
   ]
  },
  {
   "cell_type": "markdown",
   "metadata": {},
   "source": [
    "💡 **Not getting the exact number of rows?**\n",
    "<details><summary>Do you have an extra 3 rows?</summary>\n",
    "Did you do a left or right join? We see why, but here we are only interested in sellers who actually received reviews, and we took an inner join.\n",
    "</details>\n",
    "<details><summary>Are you missing 2 rows?</summary>\n",
    "Did you use <code>Orders().get_training_data()</code>? That's a valid option, but it's a bit overkill if we're only interested in reviews, no? Remember how that method does a lot of calculations. And the number of columns it returns: we don't need most of them. Find another method in the <code>Order</code> class that would be better tailored to what we need.\n",
    "</details>"
   ]
  },
  {
   "cell_type": "markdown",
   "metadata": {},
   "source": [
    "## 2 - Sellers' Exploration"
   ]
  },
  {
   "cell_type": "markdown",
   "metadata": {},
   "source": [
    "### (2.1) Plots"
   ]
  },
  {
   "cell_type": "markdown",
   "metadata": {},
   "source": [
    "👉 Let's start with some initial ***`EDA - Exploratory Data Analysis`*** about these sellers.\n",
    "\n",
    "- 📈 Plot the distribution of each numerical variable of the dataset in one large figure\n",
    "- 👀 Do you notice any outliers?\n",
    "- What's the median of orders per seller ❓\n",
    "- How does the distribution of this variable look like ❓"
   ]
  },
  {
   "cell_type": "code",
   "execution_count": null,
   "metadata": {
    "tags": [
     "challengify"
    ]
   },
   "outputs": [],
   "source": [
    "# YOUR CODE HERE"
   ]
  },
  {
   "cell_type": "code",
   "execution_count": null,
   "metadata": {
    "tags": [
     "challengify"
    ]
   },
   "outputs": [],
   "source": [
    "# YOUR CODE HERE"
   ]
  },
  {
   "cell_type": "markdown",
   "metadata": {},
   "source": [
    "💡There seems to be a group of sellers which stands out for having very low review scores! \n",
    "\n",
    "📊 Let's investigate graphically it:\n",
    "* Using `plotly`, create a `scatterplot` of `delay_to_carrier` against `wait_time`, varying bubble size by total `sales` for that seller, and coloring by `review_score`. "
   ]
  },
  {
   "cell_type": "code",
   "execution_count": null,
   "metadata": {
    "tags": [
     "challengify"
    ]
   },
   "outputs": [],
   "source": [
    "# YOUR CODE HERE"
   ]
  },
  {
   "cell_type": "markdown",
   "metadata": {},
   "source": [
    "Feel free to change values `x`, `y`, `color` and `size` to try identify who are the worst sellers"
   ]
  },
  {
   "cell_type": "markdown",
   "metadata": {},
   "source": [
    "### (2.2) Model out `review_score` with OLS"
   ]
  },
  {
   "cell_type": "markdown",
   "metadata": {},
   "source": [
    "⚠️ Scatter plots have their limits. \n",
    "\n",
    "💡 A more rigorous way to explain **`sellers' review_score`** is to **model the impact of various features on `review_score` with a `multivariate-OLS` in `statsmodels`**.\n",
    "\n",
    "👉 Create an OLS with numerical features of your choice. \n",
    "\n",
    "❓ What are the most impactful ones? \n",
    "\n",
    "⚠️ Don't forget to standardize your features using the `standardize`function below to compare the regression coefficients together. "
   ]
  },
  {
   "cell_type": "code",
   "execution_count": null,
   "metadata": {},
   "outputs": [],
   "source": [
    "def standardize(df, features):\n",
    "    df_standardized = df.copy()\n",
    "    for f in features:\n",
    "        mu = df[f].mean()\n",
    "        sigma = df[f].std()\n",
    "        df_standardized[f] = df[f].map(lambda x: (x - mu) / sigma)\n",
    "    return df_standardized"
   ]
  },
  {
   "cell_type": "code",
   "execution_count": null,
   "metadata": {
    "tags": [
     "challengify"
    ]
   },
   "outputs": [],
   "source": [
    "# YOUR CODE HERE"
   ]
  },
  {
   "cell_type": "markdown",
   "metadata": {},
   "source": [
    "📊 Draw a `bar_plot` with sorted coefficients."
   ]
  },
  {
   "cell_type": "code",
   "execution_count": null,
   "metadata": {
    "tags": [
     "challengify"
    ]
   },
   "outputs": [],
   "source": [
    "# YOUR CODE HERE"
   ]
  },
  {
   "cell_type": "markdown",
   "metadata": {},
   "source": [
    "👉 Finally, investigate your model's performance (`R-squared`) and `residuals`"
   ]
  },
  {
   "cell_type": "code",
   "execution_count": null,
   "metadata": {
    "tags": [
     "challengify"
    ]
   },
   "outputs": [],
   "source": [
    "# YOUR CODE HERE"
   ]
  },
  {
   "cell_type": "markdown",
   "metadata": {},
   "source": [
    "👉 Compare the real review scores and the predicted scores by showing them on the same graph."
   ]
  },
  {
   "cell_type": "code",
   "execution_count": null,
   "metadata": {
    "tags": [
     "challengify"
    ]
   },
   "outputs": [],
   "source": [
    "# YOUR CODE HERE"
   ]
  },
  {
   "cell_type": "markdown",
   "metadata": {},
   "source": [
    "👉 Plot the residuals"
   ]
  },
  {
   "cell_type": "code",
   "execution_count": null,
   "metadata": {
    "tags": [
     "challengify"
    ]
   },
   "outputs": [],
   "source": [
    "# YOUR CODE HERE"
   ]
  },
  {
   "cell_type": "markdown",
   "metadata": {},
   "source": [
    "### (2.3) Add the `seller_state` to your analysis"
   ]
  },
  {
   "cell_type": "markdown",
   "metadata": {},
   "source": [
    "❓ We haven't used information about `seller_state` yet.  \n",
    "- Create a new OLS model regressing `review_score` on only on `seller_states` .\n",
    "- Analyse your significant features using `return_significative_coef(model)` coded for you in `olist/utils.py`\n",
    "- What are the best states in terms of `review_score`? \n",
    "\n",
    "<details>\n",
    "    <summary>- Hints -</summary>\n",
    "        \n",
    "⚠️ Be careful, `seller_state` is a categorical feature. \n",
    "    \n",
    "💡 Use `C(a_cat_feature)` in the formula to tell the linear regression model which variables are categorical variables. It will create one boolean variable `is_cat_feature_xx` **per unique category** \n",
    "\n",
    "</details>"
   ]
  },
  {
   "cell_type": "code",
   "execution_count": null,
   "metadata": {
    "tags": [
     "challengify"
    ]
   },
   "outputs": [],
   "source": [
    "# YOUR CODE HERE"
   ]
  },
  {
   "cell_type": "markdown",
   "metadata": {},
   "source": [
    "☝️ Some states indeed have _significantly_ better reviews than others on average. \n",
    "\n",
    "🤔 Is it due to some lower `quantity_per_order`, lower `wait_time`, or `delay_to_carrier`?  Or is it due to some other factors that we haven't collected data about?\n",
    "\n",
    "❓ **Try to isolate the impact of the `seller_state` from the rest by adding other continuous features to your OLS until `seller_states` is no longer statistically siginificant!**"
   ]
  },
  {
   "cell_type": "code",
   "execution_count": null,
   "metadata": {
    "tags": [
     "challengify"
    ]
   },
   "outputs": [],
   "source": [
    "# YOUR CODE HERE"
   ]
  },
  {
   "cell_type": "code",
   "execution_count": null,
   "metadata": {
    "tags": [
     "challengify"
    ]
   },
   "outputs": [],
   "source": [
    "# YOUR CODE HERE"
   ]
  },
  {
   "cell_type": "markdown",
   "metadata": {},
   "source": [
    "☝️ After adding `wait_time` to our analysis, none of the 22 dummy variables `is_seller_state_xx` are statistically signigicant:\n",
    "\n",
    "Given our small dataset (most states have a very limited number of sellers):\n",
    "- We _cannot conclude_ that \"some states are inherently better than other for reasons that would be independent of the `wait_time`\" \n",
    "- In other words, we _cannot reject the hypothesis_ that \"seller_state has no impact on review_score, other than through `wait_time`\""
   ]
  },
  {
   "cell_type": "markdown",
   "metadata": {},
   "source": [
    "🏁 Congratulations!\n",
    "\n",
    "💾 Commit and push :\n",
    "* your ` sellers.ipynb`notebook \n",
    "* as well as `seller.py`"
   ]
  }
 ],
 "metadata": {
  "kernelspec": {
   "display_name": "Python 3",
   "language": "python",
   "name": "python3"
  },
  "language_info": {
   "codemirror_mode": {
    "name": "ipython",
    "version": 3
   },
   "file_extension": ".py",
   "mimetype": "text/x-python",
   "name": "python",
   "nbconvert_exporter": "python",
   "pygments_lexer": "ipython3",
   "version": "3.10.6"
  }
 },
 "nbformat": 4,
 "nbformat_minor": 4
}
